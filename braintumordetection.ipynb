{
 "cells": [
  {
   "cell_type": "code",
   "execution_count": 2,
   "metadata": {},
   "outputs": [],
   "source": [
    "import warnings\n",
    "warnings.filterwarnings('ignore')"
   ]
  },
  {
   "cell_type": "code",
   "execution_count": 3,
   "metadata": {},
   "outputs": [],
   "source": [
    "import numpy as np\n",
    "import os\n",
    "import math\n",
    "import shutil\n",
    "import matplotlib.pyplot as plt\n",
    "import glob"
   ]
  },
  {
   "cell_type": "code",
   "execution_count": 4,
   "metadata": {},
   "outputs": [],
   "source": [
    "ROOT_DIR=\"BrainTumorData/Brain Tumor Data Set\"\n",
    "number_of_images={}\n",
    "\n",
    "for dir in os.listdir(ROOT_DIR):\n",
    "    number_of_images[dir]=len(os.listdir(os.path.join(ROOT_DIR,dir)))"
   ]
  },
  {
   "cell_type": "code",
   "execution_count": 5,
   "metadata": {},
   "outputs": [
    {
     "data": {
      "text/plain": [
       "dict_items([('Brain Tumor', 81), ('Healthey', 81)])"
      ]
     },
     "execution_count": 5,
     "metadata": {},
     "output_type": "execute_result"
    }
   ],
   "source": [
    "number_of_images.items()"
   ]
  },
  {
   "cell_type": "code",
   "execution_count": 6,
   "metadata": {},
   "outputs": [
    {
     "data": {
      "text/plain": [
       "2"
      ]
     },
     "execution_count": 6,
     "metadata": {},
     "output_type": "execute_result"
    }
   ],
   "source": [
    "len(os.listdir(\"BrainTumorData/Brain Tumor Data Set\"))"
   ]
  },
  {
   "cell_type": "code",
   "execution_count": 7,
   "metadata": {},
   "outputs": [],
   "source": [
    "def dataFolder(p,split):\n",
    "    \n",
    "    \n",
    "    if not os.path.exists(\"./\"+p):\n",
    "        os.mkdir(\"./\"+p)\n",
    "        for dir in os.listdir(ROOT_DIR):\n",
    "            os.makedirs(\"./\"+p+\"/\"+dir)\n",
    "            for img in np.random.choice(a=os.listdir(os.path.join(ROOT_DIR,dir)),\n",
    "                             size=(math.floor(split*number_of_images[dir])-2),replace=False):\n",
    "                O=os.path.join(ROOT_DIR,dir,img)\n",
    "                D=os.path.join(\"./\"+p,dir)\n",
    "                shutil.copy(O,D)\n",
    "                os.remove(O)\n",
    "    else:\n",
    "        print(\"Folder Exist\")"
   ]
  },
  {
   "cell_type": "code",
   "execution_count": 8,
   "metadata": {},
   "outputs": [
    {
     "name": "stdout",
     "output_type": "stream",
     "text": [
      "Folder Exist\n"
     ]
    }
   ],
   "source": [
    "dataFolder(\"train\",0.7)"
   ]
  },
  {
   "cell_type": "code",
   "execution_count": 9,
   "metadata": {},
   "outputs": [
    {
     "name": "stdout",
     "output_type": "stream",
     "text": [
      "Folder Exist\n"
     ]
    }
   ],
   "source": [
    "dataFolder(\"val\",0.15)"
   ]
  },
  {
   "cell_type": "code",
   "execution_count": 10,
   "metadata": {},
   "outputs": [
    {
     "name": "stdout",
     "output_type": "stream",
     "text": [
      "Folder Exist\n"
     ]
    }
   ],
   "source": [
    "dataFolder(\"test\",0.10)"
   ]
  },
  {
   "cell_type": "code",
   "execution_count": 11,
   "metadata": {},
   "outputs": [
    {
     "data": {
      "text/plain": [
       "dict_items([('Brain Tumor', 81), ('Healthey', 81)])"
      ]
     },
     "execution_count": 11,
     "metadata": {},
     "output_type": "execute_result"
    }
   ],
   "source": [
    "number_of_images={}\n",
    "\n",
    "for dir in os.listdir(ROOT_DIR):\n",
    "    number_of_images[dir]=len(os.listdir(os.path.join(ROOT_DIR,dir)))\n",
    "    \n",
    "\n",
    "number_of_images.items()"
   ]
  },
  {
   "cell_type": "code",
   "execution_count": 12,
   "metadata": {},
   "outputs": [],
   "source": [
    "from keras.layers import Conv2D,MaxPool2D,Dropout,GlobalAveragePooling2D,Flatten,Dense,BatchNormalization\n",
    "from keras.models import Sequential\n",
    "\n",
    "import keras"
   ]
  },
  {
   "cell_type": "code",
   "execution_count": 13,
   "metadata": {},
   "outputs": [
    {
     "name": "stdout",
     "output_type": "stream",
     "text": [
      "Model: \"sequential\"\n",
      "_________________________________________________________________\n",
      " Layer (type)                Output Shape              Param #   \n",
      "=================================================================\n",
      " conv2d (Conv2D)             (None, 222, 222, 16)      448       \n",
      "                                                                 \n",
      " conv2d_1 (Conv2D)           (None, 220, 220, 36)      5220      \n",
      "                                                                 \n",
      " max_pooling2d (MaxPooling2D  (None, 110, 110, 36)     0         \n",
      " )                                                               \n",
      "                                                                 \n",
      " conv2d_2 (Conv2D)           (None, 108, 108, 64)      20800     \n",
      "                                                                 \n",
      " max_pooling2d_1 (MaxPooling  (None, 54, 54, 64)       0         \n",
      " 2D)                                                             \n",
      "                                                                 \n",
      " conv2d_3 (Conv2D)           (None, 52, 52, 128)       73856     \n",
      "                                                                 \n",
      " max_pooling2d_2 (MaxPooling  (None, 26, 26, 128)      0         \n",
      " 2D)                                                             \n",
      "                                                                 \n",
      " dropout (Dropout)           (None, 26, 26, 128)       0         \n",
      "                                                                 \n",
      " flatten (Flatten)           (None, 86528)             0         \n",
      "                                                                 \n",
      " dense (Dense)               (None, 64)                5537856   \n",
      "                                                                 \n",
      " dropout_1 (Dropout)         (None, 64)                0         \n",
      "                                                                 \n",
      " dense_1 (Dense)             (None, 1)                 65        \n",
      "                                                                 \n",
      "=================================================================\n",
      "Total params: 5,638,245\n",
      "Trainable params: 5,638,245\n",
      "Non-trainable params: 0\n",
      "_________________________________________________________________\n"
     ]
    }
   ],
   "source": [
    "model=Sequential()\n",
    "\n",
    "\n",
    "model.add(Conv2D(filters=16,kernel_size=(3,3),activation='relu',input_shape=(224,224,3)))\n",
    "\n",
    "\n",
    "\n",
    "model.add(Conv2D(filters=36,kernel_size=(3,3),activation='relu'))\n",
    "model.add(MaxPool2D(pool_size=(2,2)))\n",
    "\n",
    "\n",
    "model.add(Conv2D(filters=64,kernel_size=(3,3),activation='relu'))\n",
    "model.add(MaxPool2D(pool_size=(2,2)))\n",
    "\n",
    "\n",
    "model.add(Conv2D(filters=128,kernel_size=(3,3),activation='relu'))\n",
    "model.add(MaxPool2D(pool_size=(2,2)))\n",
    "\n",
    "model.add(Dropout(rate=0.25))\n",
    "\n",
    "model.add(Flatten())\n",
    "model.add(Dense(units=64,activation='relu'))\n",
    "model.add(Dropout(rate=0.25))\n",
    "model.add(Dense(units=1,activation='sigmoid'))\n",
    "\n",
    "\n",
    "model.summary()\n"
   ]
  },
  {
   "cell_type": "code",
   "execution_count": 14,
   "metadata": {},
   "outputs": [],
   "source": [
    "model.compile(optimizer='adam',loss=keras.losses.binary_crossentropy,metrics=['accuracy'])"
   ]
  },
  {
   "cell_type": "code",
   "execution_count": 15,
   "metadata": {},
   "outputs": [],
   "source": [
    "from keras.preprocessing.image import ImageDataGenerator"
   ]
  },
  {
   "cell_type": "code",
   "execution_count": 16,
   "metadata": {},
   "outputs": [],
   "source": [
    "def preprocessingImages1(path):\n",
    "    image_data=ImageDataGenerator(zoom_range=0.2,shear_range=0.2,rescale=1/255,horizontal_flip=True)\n",
    "    image=image_data.flow_from_directory(directory=path,target_size=(224,224),batch_size=16,class_mode='binary')\n",
    "    return image"
   ]
  },
  {
   "cell_type": "code",
   "execution_count": 17,
   "metadata": {},
   "outputs": [
    {
     "name": "stdout",
     "output_type": "stream",
     "text": [
      "Found 2096 images belonging to 2 classes.\n"
     ]
    }
   ],
   "source": [
    "path=\"./train\"\n",
    "train_data=preprocessingImages1(path)"
   ]
  },
  {
   "cell_type": "code",
   "execution_count": 18,
   "metadata": {},
   "outputs": [],
   "source": [
    "def preprocessingImages2(path):\n",
    "    image_data=ImageDataGenerator(rescale=1/255)\n",
    "    image=image_data.flow_from_directory(directory=path,target_size=(224,224),batch_size=16,class_mode='binary')\n",
    "    return image"
   ]
  },
  {
   "cell_type": "code",
   "execution_count": 19,
   "metadata": {},
   "outputs": [
    {
     "name": "stdout",
     "output_type": "stream",
     "text": [
      "Found 296 images belonging to 2 classes.\n"
     ]
    }
   ],
   "source": [
    "path=\"./test\"\n",
    "test_data=preprocessingImages2(path)"
   ]
  },
  {
   "cell_type": "code",
   "execution_count": 20,
   "metadata": {},
   "outputs": [
    {
     "name": "stdout",
     "output_type": "stream",
     "text": [
      "Found 446 images belonging to 2 classes.\n"
     ]
    }
   ],
   "source": [
    "path=\"./val\"\n",
    "val_data=preprocessingImages2(path)"
   ]
  },
  {
   "cell_type": "code",
   "execution_count": 21,
   "metadata": {},
   "outputs": [],
   "source": [
    "from keras.callbacks import EarlyStopping,ModelCheckpoint\n",
    "\n",
    "es=EarlyStopping(monitor=\"val_accuracy\",min_delta=0.01,patience=3,verbose=1,mode=\"auto\")\n",
    "mc=ModelCheckpoint(monitor=\"val_accuracy\",filepath=\"./bestmodel.h5\",verbose=1,save_best_only=True,mode='auto')\n",
    "cd=[es,mc]"
   ]
  },
  {
   "cell_type": "code",
   "execution_count": 22,
   "metadata": {},
   "outputs": [
    {
     "name": "stdout",
     "output_type": "stream",
     "text": [
      "Epoch 1/30\n",
      "8/8 [==============================] - ETA: 0s - loss: 1.1383 - accuracy: 0.6094WARNING:tensorflow:Your input ran out of data; interrupting training. Make sure that your dataset or generator can generate at least `steps_per_epoch * epochs` batches (in this case, 32 batches). You may need to use the repeat() function when building your dataset.\n",
      "\n",
      "Epoch 1: val_accuracy improved from -inf to 0.56054, saving model to .\\bestmodel.h5\n",
      "8/8 [==============================] - 19s 2s/step - loss: 1.1383 - accuracy: 0.6094 - val_loss: 0.6671 - val_accuracy: 0.5605\n",
      "Epoch 2/30\n",
      "8/8 [==============================] - ETA: 0s - loss: 0.6767 - accuracy: 0.6094WARNING:tensorflow:Early stopping conditioned on metric `val_accuracy` which is not available. Available metrics are: loss,accuracy\n",
      "WARNING:tensorflow:Can save best model only with val_accuracy available, skipping.\n",
      "8/8 [==============================] - 10s 1s/step - loss: 0.6767 - accuracy: 0.6094\n",
      "Epoch 3/30\n",
      "8/8 [==============================] - ETA: 0s - loss: 0.6355 - accuracy: 0.6953WARNING:tensorflow:Early stopping conditioned on metric `val_accuracy` which is not available. Available metrics are: loss,accuracy\n",
      "WARNING:tensorflow:Can save best model only with val_accuracy available, skipping.\n",
      "8/8 [==============================] - 9s 1s/step - loss: 0.6355 - accuracy: 0.6953\n",
      "Epoch 4/30\n",
      "8/8 [==============================] - ETA: 0s - loss: 0.6162 - accuracy: 0.6797WARNING:tensorflow:Early stopping conditioned on metric `val_accuracy` which is not available. Available metrics are: loss,accuracy\n",
      "WARNING:tensorflow:Can save best model only with val_accuracy available, skipping.\n",
      "8/8 [==============================] - 9s 1s/step - loss: 0.6162 - accuracy: 0.6797\n",
      "Epoch 5/30\n",
      "8/8 [==============================] - ETA: 0s - loss: 0.6125 - accuracy: 0.6484WARNING:tensorflow:Early stopping conditioned on metric `val_accuracy` which is not available. Available metrics are: loss,accuracy\n",
      "WARNING:tensorflow:Can save best model only with val_accuracy available, skipping.\n",
      "8/8 [==============================] - 10s 1s/step - loss: 0.6125 - accuracy: 0.6484\n",
      "Epoch 6/30\n",
      "8/8 [==============================] - ETA: 0s - loss: 0.6067 - accuracy: 0.6484WARNING:tensorflow:Early stopping conditioned on metric `val_accuracy` which is not available. Available metrics are: loss,accuracy\n",
      "WARNING:tensorflow:Can save best model only with val_accuracy available, skipping.\n",
      "8/8 [==============================] - 10s 1s/step - loss: 0.6067 - accuracy: 0.6484\n",
      "Epoch 7/30\n",
      "8/8 [==============================] - ETA: 0s - loss: 0.5767 - accuracy: 0.7500WARNING:tensorflow:Early stopping conditioned on metric `val_accuracy` which is not available. Available metrics are: loss,accuracy\n",
      "WARNING:tensorflow:Can save best model only with val_accuracy available, skipping.\n",
      "8/8 [==============================] - 9s 1s/step - loss: 0.5767 - accuracy: 0.7500\n",
      "Epoch 8/30\n",
      "8/8 [==============================] - ETA: 0s - loss: 0.5301 - accuracy: 0.7656WARNING:tensorflow:Early stopping conditioned on metric `val_accuracy` which is not available. Available metrics are: loss,accuracy\n",
      "WARNING:tensorflow:Can save best model only with val_accuracy available, skipping.\n",
      "8/8 [==============================] - 8s 1s/step - loss: 0.5301 - accuracy: 0.7656\n",
      "Epoch 9/30\n",
      "8/8 [==============================] - ETA: 0s - loss: 0.6114 - accuracy: 0.6953WARNING:tensorflow:Early stopping conditioned on metric `val_accuracy` which is not available. Available metrics are: loss,accuracy\n",
      "WARNING:tensorflow:Can save best model only with val_accuracy available, skipping.\n",
      "8/8 [==============================] - 9s 1s/step - loss: 0.6114 - accuracy: 0.6953\n",
      "Epoch 10/30\n",
      "8/8 [==============================] - ETA: 0s - loss: 0.5338 - accuracy: 0.7578WARNING:tensorflow:Early stopping conditioned on metric `val_accuracy` which is not available. Available metrics are: loss,accuracy\n",
      "WARNING:tensorflow:Can save best model only with val_accuracy available, skipping.\n",
      "8/8 [==============================] - 9s 1s/step - loss: 0.5338 - accuracy: 0.7578\n",
      "Epoch 11/30\n",
      "8/8 [==============================] - ETA: 0s - loss: 0.4931 - accuracy: 0.8281WARNING:tensorflow:Early stopping conditioned on metric `val_accuracy` which is not available. Available metrics are: loss,accuracy\n",
      "WARNING:tensorflow:Can save best model only with val_accuracy available, skipping.\n",
      "8/8 [==============================] - 9s 1s/step - loss: 0.4931 - accuracy: 0.8281\n",
      "Epoch 12/30\n",
      "8/8 [==============================] - ETA: 0s - loss: 0.6825 - accuracy: 0.6172WARNING:tensorflow:Early stopping conditioned on metric `val_accuracy` which is not available. Available metrics are: loss,accuracy\n",
      "WARNING:tensorflow:Can save best model only with val_accuracy available, skipping.\n",
      "8/8 [==============================] - 9s 1s/step - loss: 0.6825 - accuracy: 0.6172\n",
      "Epoch 13/30\n",
      "8/8 [==============================] - ETA: 0s - loss: 0.5719 - accuracy: 0.7344WARNING:tensorflow:Early stopping conditioned on metric `val_accuracy` which is not available. Available metrics are: loss,accuracy\n",
      "WARNING:tensorflow:Can save best model only with val_accuracy available, skipping.\n",
      "8/8 [==============================] - 8s 979ms/step - loss: 0.5719 - accuracy: 0.7344\n",
      "Epoch 14/30\n",
      "8/8 [==============================] - ETA: 0s - loss: 0.5163 - accuracy: 0.7656WARNING:tensorflow:Early stopping conditioned on metric `val_accuracy` which is not available. Available metrics are: loss,accuracy\n",
      "WARNING:tensorflow:Can save best model only with val_accuracy available, skipping.\n",
      "8/8 [==============================] - 8s 1s/step - loss: 0.5163 - accuracy: 0.7656\n",
      "Epoch 15/30\n",
      "8/8 [==============================] - ETA: 0s - loss: 0.4806 - accuracy: 0.7812WARNING:tensorflow:Early stopping conditioned on metric `val_accuracy` which is not available. Available metrics are: loss,accuracy\n",
      "WARNING:tensorflow:Can save best model only with val_accuracy available, skipping.\n",
      "8/8 [==============================] - 10s 1s/step - loss: 0.4806 - accuracy: 0.7812\n",
      "Epoch 16/30\n",
      "8/8 [==============================] - ETA: 0s - loss: 0.5414 - accuracy: 0.7266WARNING:tensorflow:Early stopping conditioned on metric `val_accuracy` which is not available. Available metrics are: loss,accuracy\n",
      "WARNING:tensorflow:Can save best model only with val_accuracy available, skipping.\n",
      "8/8 [==============================] - 12s 1s/step - loss: 0.5414 - accuracy: 0.7266\n",
      "Epoch 17/30\n",
      "8/8 [==============================] - ETA: 0s - loss: 0.4931 - accuracy: 0.7891WARNING:tensorflow:Early stopping conditioned on metric `val_accuracy` which is not available. Available metrics are: loss,accuracy\n",
      "WARNING:tensorflow:Can save best model only with val_accuracy available, skipping.\n",
      "8/8 [==============================] - 9s 1s/step - loss: 0.4931 - accuracy: 0.7891\n",
      "Epoch 18/30\n",
      "8/8 [==============================] - ETA: 0s - loss: 0.4090 - accuracy: 0.8359WARNING:tensorflow:Early stopping conditioned on metric `val_accuracy` which is not available. Available metrics are: loss,accuracy\n",
      "WARNING:tensorflow:Can save best model only with val_accuracy available, skipping.\n",
      "8/8 [==============================] - 10s 1s/step - loss: 0.4090 - accuracy: 0.8359\n",
      "Epoch 19/30\n",
      "8/8 [==============================] - ETA: 0s - loss: 0.5528 - accuracy: 0.7734WARNING:tensorflow:Early stopping conditioned on metric `val_accuracy` which is not available. Available metrics are: loss,accuracy\n",
      "WARNING:tensorflow:Can save best model only with val_accuracy available, skipping.\n",
      "8/8 [==============================] - 9s 1s/step - loss: 0.5528 - accuracy: 0.7734\n",
      "Epoch 20/30\n",
      "8/8 [==============================] - ETA: 0s - loss: 0.4354 - accuracy: 0.7891WARNING:tensorflow:Early stopping conditioned on metric `val_accuracy` which is not available. Available metrics are: loss,accuracy\n",
      "WARNING:tensorflow:Can save best model only with val_accuracy available, skipping.\n",
      "8/8 [==============================] - 9s 1s/step - loss: 0.4354 - accuracy: 0.7891\n",
      "Epoch 21/30\n",
      "8/8 [==============================] - ETA: 0s - loss: 0.4205 - accuracy: 0.7734WARNING:tensorflow:Early stopping conditioned on metric `val_accuracy` which is not available. Available metrics are: loss,accuracy\n",
      "WARNING:tensorflow:Can save best model only with val_accuracy available, skipping.\n",
      "8/8 [==============================] - 9s 1s/step - loss: 0.4205 - accuracy: 0.7734\n",
      "Epoch 22/30\n",
      "8/8 [==============================] - ETA: 0s - loss: 0.5096 - accuracy: 0.7500WARNING:tensorflow:Early stopping conditioned on metric `val_accuracy` which is not available. Available metrics are: loss,accuracy\n",
      "WARNING:tensorflow:Can save best model only with val_accuracy available, skipping.\n",
      "8/8 [==============================] - 8s 1s/step - loss: 0.5096 - accuracy: 0.7500\n",
      "Epoch 23/30\n",
      "8/8 [==============================] - ETA: 0s - loss: 0.4669 - accuracy: 0.7422WARNING:tensorflow:Early stopping conditioned on metric `val_accuracy` which is not available. Available metrics are: loss,accuracy\n",
      "WARNING:tensorflow:Can save best model only with val_accuracy available, skipping.\n",
      "8/8 [==============================] - 8s 965ms/step - loss: 0.4669 - accuracy: 0.7422\n",
      "Epoch 24/30\n",
      "8/8 [==============================] - ETA: 0s - loss: 0.4477 - accuracy: 0.7422WARNING:tensorflow:Early stopping conditioned on metric `val_accuracy` which is not available. Available metrics are: loss,accuracy\n",
      "WARNING:tensorflow:Can save best model only with val_accuracy available, skipping.\n",
      "8/8 [==============================] - 8s 1s/step - loss: 0.4477 - accuracy: 0.7422\n",
      "Epoch 25/30\n",
      "8/8 [==============================] - ETA: 0s - loss: 0.4985 - accuracy: 0.7734WARNING:tensorflow:Early stopping conditioned on metric `val_accuracy` which is not available. Available metrics are: loss,accuracy\n",
      "WARNING:tensorflow:Can save best model only with val_accuracy available, skipping.\n",
      "8/8 [==============================] - 8s 966ms/step - loss: 0.4985 - accuracy: 0.7734\n",
      "Epoch 26/30\n",
      "8/8 [==============================] - ETA: 0s - loss: 0.5120 - accuracy: 0.7656WARNING:tensorflow:Early stopping conditioned on metric `val_accuracy` which is not available. Available metrics are: loss,accuracy\n",
      "WARNING:tensorflow:Can save best model only with val_accuracy available, skipping.\n",
      "8/8 [==============================] - 8s 1s/step - loss: 0.5120 - accuracy: 0.7656\n",
      "Epoch 27/30\n",
      "8/8 [==============================] - ETA: 0s - loss: 0.4697 - accuracy: 0.7812WARNING:tensorflow:Early stopping conditioned on metric `val_accuracy` which is not available. Available metrics are: loss,accuracy\n",
      "WARNING:tensorflow:Can save best model only with val_accuracy available, skipping.\n",
      "8/8 [==============================] - 8s 997ms/step - loss: 0.4697 - accuracy: 0.7812\n",
      "Epoch 28/30\n",
      "8/8 [==============================] - ETA: 0s - loss: 0.4657 - accuracy: 0.7891WARNING:tensorflow:Early stopping conditioned on metric `val_accuracy` which is not available. Available metrics are: loss,accuracy\n",
      "WARNING:tensorflow:Can save best model only with val_accuracy available, skipping.\n",
      "8/8 [==============================] - 8s 1s/step - loss: 0.4657 - accuracy: 0.7891\n",
      "Epoch 29/30\n",
      "8/8 [==============================] - ETA: 0s - loss: 0.4644 - accuracy: 0.7578WARNING:tensorflow:Early stopping conditioned on metric `val_accuracy` which is not available. Available metrics are: loss,accuracy\n",
      "WARNING:tensorflow:Can save best model only with val_accuracy available, skipping.\n",
      "8/8 [==============================] - 8s 1s/step - loss: 0.4644 - accuracy: 0.7578\n",
      "Epoch 30/30\n",
      "8/8 [==============================] - ETA: 0s - loss: 0.3846 - accuracy: 0.8281WARNING:tensorflow:Early stopping conditioned on metric `val_accuracy` which is not available. Available metrics are: loss,accuracy\n",
      "WARNING:tensorflow:Can save best model only with val_accuracy available, skipping.\n",
      "8/8 [==============================] - 9s 1s/step - loss: 0.3846 - accuracy: 0.8281\n"
     ]
    }
   ],
   "source": [
    "hs=model.fit_generator(generator=train_data,\n",
    "                       steps_per_epoch=8,\n",
    "                       epochs=30,\n",
    "                       verbose=1,\n",
    "                       validation_data=val_data,\n",
    "                       validation_steps=32,\n",
    "                       callbacks=cd)"
   ]
  },
  {
   "cell_type": "code",
   "execution_count": 23,
   "metadata": {},
   "outputs": [
    {
     "data": {
      "text/plain": [
       "dict_keys(['loss', 'accuracy', 'val_loss', 'val_accuracy'])"
      ]
     },
     "execution_count": 23,
     "metadata": {},
     "output_type": "execute_result"
    }
   ],
   "source": [
    "h=hs.history\n",
    "h.keys()\n"
   ]
  },
  {
   "cell_type": "code",
   "execution_count": 24,
   "metadata": {},
   "outputs": [],
   "source": [
    "import matplotlib.pyplot as plt"
   ]
  },
  {
   "cell_type": "code",
   "execution_count": 25,
   "metadata": {},
   "outputs": [
    {
     "data": {
      "image/png": "[encoded data removed]",
      "text/plain": [
       "<Figure size 432x288 with 1 Axes>"
      ]
     },
     "metadata": {
      "needs_background": "light"
     },
     "output_type": "display_data"
    }
   ],
   "source": [
    "plt.plot(h['accuracy'])\n",
    "plt.plot(h['val_accuracy'])\n",
    "\n",
    "\n",
    "\n",
    "plt.title(\"acc vs val\")\n",
    "plt.show()"
   ]
  },
  {
   "cell_type": "code",
   "execution_count": 26,
   "metadata": {},
   "outputs": [],
   "source": [
    "from keras.models import load_model\n",
    "model=load_model(\"bestmodel.h5\")"
   ]
  },
  {
   "cell_type": "code",
   "execution_count": 27,
   "metadata": {},
   "outputs": [
    {
     "data": {
      "text/plain": [
       "0.5405405163764954"
      ]
     },
     "execution_count": 27,
     "metadata": {},
     "output_type": "execute_result"
    }
   ],
   "source": [
    "acc=model.evaluate_generator(test_data)[1]\n",
    "acc"
   ]
  },
  {
   "cell_type": "code",
   "execution_count": 28,
   "metadata": {},
   "outputs": [],
   "source": [
    "from keras.utils import load_img,img_to_array"
   ]
  },
  {
   "cell_type": "code",
   "execution_count": 38,
   "metadata": {},
   "outputs": [
    {
     "name": "stderr",
     "output_type": "stream",
     "text": [
      "Clipping input data to the valid range for imshow with RGB data ([0..1] for floats or [0..255] for integers).\n"
     ]
    },
    {
     "data": {
      "image/png": "[encoded data removed]",
      "text/plain": [
       "<Figure size 432x288 with 1 Axes>"
      ]
     },
     "metadata": {
      "needs_background": "light"
     },
     "output_type": "display_data"
    },
    {
     "name": "stdout",
     "output_type": "stream",
     "text": [
      "1/1 [==============================] - 0s 35ms/step\n",
      "Brain Tumor Not Detected\n"
     ]
    }
   ],
   "source": [
    "\n",
    "path=\"train/Healthey/no2.jpg\"\n",
    "img=load_img(path,target_size=(224,224))\n",
    "input_arr=img_to_array(img)/225\n",
    "\n",
    "plt.imshow(input_arr)\n",
    "plt.show()\n",
    "\n",
    "input_arr.shape\n",
    "\n",
    "\n",
    "input_arr=np.expand_dims(input_arr,axis=0)\n",
    "\n",
    "\n",
    "\n",
    "y_predict = np.argmax(model.predict(input_arr),axis=-0).astype('int32')\n",
    "y_predict\n",
    "\n",
    "if y_predict==1:\n",
    "    print(\"Brain Tumor Detected\")\n",
    "else:\n",
    "      print(\"Brain Tumor Not Detected\")"
   ]
  },
  {
   "cell_type": "code",
   "execution_count": 30,
   "metadata": {},
   "outputs": [
    {
     "name": "stdout",
     "output_type": "stream",
     "text": [
      "2.9.1\n"
     ]
    }
   ],
   "source": [
    "import tensorflow as tf\n",
    "print(tf. __version__)"
   ]
  }
 ],
 "metadata": {
  "kernelspec": {
   "display_name": "Python 3.10.0 64-bit",
   "language": "python",
   "name": "python3"
  },
  "language_info": {
   "codemirror_mode": {
    "name": "ipython",
    "version": 3
   },
   "file_extension": ".py",
   "mimetype": "text/x-python",
   "name": "python",
   "nbconvert_exporter": "python",
   "pygments_lexer": "ipython3",
   "version": "3.10.0"
  },
  "orig_nbformat": 4,
  "vscode": {
   "interpreter": {
    "hash": "8ef873d6a9fb09128c51ca24f57d685a29a4c4cb4919f17482f419e89ebc151a"
   }
  }
 },
 "nbformat": 4,
 "nbformat_minor": 2
}
